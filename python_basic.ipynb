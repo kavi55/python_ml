{
 "cells": [
  {
   "cell_type": "code",
   "execution_count": 1,
   "metadata": {
    "collapsed": false
   },
   "outputs": [
    {
     "name": "stdout",
     "output_type": "stream",
     "text": [
      "kavi_samant\n"
     ]
    }
   ],
   "source": [
    "print(\"kavi_samant\")"
   ]
  },
  {
   "cell_type": "code",
   "execution_count": 2,
   "metadata": {
    "collapsed": false
   },
   "outputs": [
    {
     "name": "stdout",
     "output_type": "stream",
     "text": [
      "I am kavindra \n",
      "I am 20 years old \n",
      "I am from pithoragarh\n",
      "my name is kavindra \n",
      "the updated age is 20\n"
     ]
    }
   ],
   "source": [
    "print(\"I am kavindra \")\n",
    "print(\"I am 20 years old \")\n",
    "print(\"I am from pithoragarh\")\n",
    "print(\"my name is kavindra \")\n",
    "print(\"the updated age is 20\")"
   ]
  },
  {
   "cell_type": "markdown",
   "metadata": {},
   "source": [
    "# Variables\n",
    "so in above program the concept of variable is arrises.so we can create a     string variable and int variable"
   ]
  },
  {
   "cell_type": "code",
   "execution_count": 3,
   "metadata": {
    "collapsed": false
   },
   "outputs": [
    {
     "name": "stdout",
     "output_type": "stream",
     "text": [
      "I am kavindra,\n",
      "I am 20years old.\n",
      "I am from pithoragarh\n",
      "my name is kavindra,\n",
      "the updated age is20.\n"
     ]
    }
   ],
   "source": [
    "character_string=\"kavindra\"\n",
    "character_age=\"20\"\n",
    "print(\"I am \"+ character_string +\",\")\n",
    "print(\"I am \" + character_age + \"years old.\" )\n",
    "print(\"I am from pithoragarh\")\n",
    "print(\"my name is \"+ character_string + \",\")\n",
    "print(\"the updated age is\" + character_age +\".\")\n",
    "\n"
   ]
  },
  {
   "cell_type": "code",
   "execution_count": 4,
   "metadata": {
    "collapsed": false
   },
   "outputs": [
    {
     "name": "stdout",
     "output_type": "stream",
     "text": [
      "I am kavindra,\n",
      "I am 20years old.\n",
      "I am from pithoragarh\n",
      "my name is samant,\n",
      "the updated age is20.\n"
     ]
    }
   ],
   "source": [
    "character_string=\"kavindra\"\n",
    "character_age=\"20\"\n",
    "print(\"I am \"+ character_string +\",\")\n",
    "print(\"I am \" + character_age + \"years old.\" )\n",
    "character_string=\"samant\"\n",
    "print(\"I am from pithoragarh\")\n",
    "print(\"my name is \"+ character_string + \",\")\n",
    "print(\"the updated age is\" + character_age +\".\")\n"
   ]
  },
  {
   "cell_type": "markdown",
   "metadata": {},
   "source": [
    "so what we saw that in our python the main 3 types of datatype in python 1=string ,2=no/decimal,3=boolean(true or false)"
   ]
  },
  {
   "cell_type": "markdown",
   "metadata": {},
   "source": [
    "# working with strings"
   ]
  },
  {
   "cell_type": "code",
   "execution_count": 5,
   "metadata": {
    "collapsed": false
   },
   "outputs": [
    {
     "name": "stdout",
     "output_type": "stream",
     "text": [
      "kavindra samant\n"
     ]
    }
   ],
   "source": [
    "print(\"kavindra samant\")"
   ]
  },
  {
   "cell_type": "code",
   "execution_count": 6,
   "metadata": {
    "collapsed": false
   },
   "outputs": [
    {
     "name": "stdout",
     "output_type": "stream",
     "text": [
      "kavi samant\n"
     ]
    }
   ],
   "source": [
    "name=\"kavi samant\"\n",
    "print(name)"
   ]
  },
  {
   "cell_type": "code",
   "execution_count": 7,
   "metadata": {
    "collapsed": false,
    "scrolled": true
   },
   "outputs": [
    {
     "name": "stdout",
     "output_type": "stream",
     "text": [
      "kavindra\n",
      "samant\n",
      "kavindra\"samant\n",
      "kavindra\\samant\n"
     ]
    }
   ],
   "source": [
    "print(\"kavindra\\nsamant\")\n",
    "print(\"kavindra\\\"samant\")\n",
    "print(\"kavindra\\samant\")"
   ]
  },
  {
   "cell_type": "code",
   "execution_count": 8,
   "metadata": {
    "collapsed": false
   },
   "outputs": [
    {
     "name": "stdout",
     "output_type": "stream",
     "text": [
      "kavi samant \n"
     ]
    }
   ],
   "source": [
    "name=\"kavi\"\n",
    "print(name +\" samant \")"
   ]
  },
  {
   "cell_type": "code",
   "execution_count": 9,
   "metadata": {
    "collapsed": false
   },
   "outputs": [
    {
     "name": "stdout",
     "output_type": "stream",
     "text": [
      "KAVI SAMANT\n"
     ]
    }
   ],
   "source": [
    "name=\"kavi samant\"\n",
    "print(name.upper())"
   ]
  },
  {
   "cell_type": "code",
   "execution_count": 10,
   "metadata": {
    "collapsed": false
   },
   "outputs": [
    {
     "name": "stdout",
     "output_type": "stream",
     "text": [
      "kavi samant\n"
     ]
    }
   ],
   "source": [
    "name=\"kavi samant\"\n",
    "print(name.lower())"
   ]
  },
  {
   "cell_type": "code",
   "execution_count": 11,
   "metadata": {
    "collapsed": false
   },
   "outputs": [
    {
     "name": "stdout",
     "output_type": "stream",
     "text": [
      "False\n"
     ]
    }
   ],
   "source": [
    "name=\"kavi samant\"\n",
    "print(name.isupper())"
   ]
  },
  {
   "cell_type": "code",
   "execution_count": 12,
   "metadata": {
    "collapsed": false
   },
   "outputs": [
    {
     "name": "stdout",
     "output_type": "stream",
     "text": [
      "True\n"
     ]
    }
   ],
   "source": [
    "name=\"kavi samant\"\n",
    "print(name.upper().isupper())"
   ]
  },
  {
   "cell_type": "code",
   "execution_count": 13,
   "metadata": {
    "collapsed": false
   },
   "outputs": [
    {
     "name": "stdout",
     "output_type": "stream",
     "text": [
      "11\n"
     ]
    }
   ],
   "source": [
    "name=\"kavi samant\"\n",
    "print(len(name))"
   ]
  },
  {
   "cell_type": "code",
   "execution_count": 14,
   "metadata": {
    "collapsed": false
   },
   "outputs": [
    {
     "name": "stdout",
     "output_type": "stream",
     "text": [
      "k\n"
     ]
    }
   ],
   "source": [
    "name=\"kavi samant\"\n",
    "print(name[0])"
   ]
  },
  {
   "cell_type": "code",
   "execution_count": 15,
   "metadata": {
    "collapsed": false
   },
   "outputs": [
    {
     "name": "stdout",
     "output_type": "stream",
     "text": [
      "1\n"
     ]
    }
   ],
   "source": [
    "name=\"kavi samant\"\n",
    "print(name.index(\"a\"))"
   ]
  },
  {
   "cell_type": "code",
   "execution_count": 16,
   "metadata": {
    "collapsed": false
   },
   "outputs": [
    {
     "name": "stdout",
     "output_type": "stream",
     "text": [
      "5\n"
     ]
    }
   ],
   "source": [
    "name=\"kavi samant\"\n",
    "print(name.index(\"s\"))"
   ]
  },
  {
   "cell_type": "code",
   "execution_count": 17,
   "metadata": {
    "collapsed": false
   },
   "outputs": [
    {
     "name": "stdout",
     "output_type": "stream",
     "text": [
      "ravi samant\n"
     ]
    }
   ],
   "source": [
    "name=\"kavi samant\"\n",
    "print(name.replace(\"kavi\",\"ravi\"))"
   ]
  },
  {
   "cell_type": "markdown",
   "metadata": {},
   "source": [
    "so the conclusion of working with string is that we will use some basic function in python is : lower,upper,isupper,islower,len,index,replace..functions nd concatinate two strings"
   ]
  },
  {
   "cell_type": "markdown",
   "metadata": {},
   "source": [
    "# woring with numbers"
   ]
  },
  {
   "cell_type": "code",
   "execution_count": 18,
   "metadata": {
    "collapsed": false
   },
   "outputs": [
    {
     "name": "stdout",
     "output_type": "stream",
     "text": [
      "3\n"
     ]
    }
   ],
   "source": [
    "print(3)"
   ]
  },
  {
   "cell_type": "code",
   "execution_count": 19,
   "metadata": {
    "collapsed": false
   },
   "outputs": [
    {
     "name": "stdout",
     "output_type": "stream",
     "text": [
      "12\n",
      "20\n",
      "36\n"
     ]
    }
   ],
   "source": [
    "print(3*4)\n",
    "print(3*4+8)\n",
    "print(3*(4+8))"
   ]
  },
  {
   "cell_type": "code",
   "execution_count": 20,
   "metadata": {
    "collapsed": false
   },
   "outputs": [
    {
     "name": "stdout",
     "output_type": "stream",
     "text": [
      "10\n"
     ]
    }
   ],
   "source": [
    "my_num=10\n",
    "print(my_num)"
   ]
  },
  {
   "cell_type": "code",
   "execution_count": 21,
   "metadata": {
    "collapsed": false
   },
   "outputs": [
    {
     "name": "stdout",
     "output_type": "stream",
     "text": [
      "1\n"
     ]
    }
   ],
   "source": [
    "print(10%3)"
   ]
  },
  {
   "cell_type": "code",
   "execution_count": 22,
   "metadata": {
    "collapsed": false
   },
   "outputs": [
    {
     "name": "stdout",
     "output_type": "stream",
     "text": [
      "10\n"
     ]
    }
   ],
   "source": [
    "my_num=10\n",
    "print(str(my_num))"
   ]
  },
  {
   "cell_type": "code",
   "execution_count": 23,
   "metadata": {
    "collapsed": false
   },
   "outputs": [
    {
     "name": "stdout",
     "output_type": "stream",
     "text": [
      "10is best\n"
     ]
    }
   ],
   "source": [
    "my_num=10\n",
    "print(str(my_num)+\"is best\")"
   ]
  },
  {
   "cell_type": "markdown",
   "metadata": {},
   "source": [
    "#my_num=10\n",
    "#print(my_num + \"is best\")\n",
    "\n",
    "The error arrises here"
   ]
  },
  {
   "cell_type": "code",
   "execution_count": 24,
   "metadata": {
    "collapsed": false
   },
   "outputs": [
    {
     "name": "stdout",
     "output_type": "stream",
     "text": [
      "10\n"
     ]
    }
   ],
   "source": [
    "my_num=-10\n",
    "print(abs(my_num))"
   ]
  },
  {
   "cell_type": "code",
   "execution_count": 25,
   "metadata": {
    "collapsed": false
   },
   "outputs": [
    {
     "name": "stdout",
     "output_type": "stream",
     "text": [
      "4096.0\n",
      "3\n",
      "4\n",
      "6\n",
      "4\n",
      "3\n",
      "4\n",
      "6.0\n"
     ]
    }
   ],
   "source": [
    "from math import *\n",
    "print(pow(4,6))\n",
    "print(round(3.4))\n",
    "print(round(3.7))\n",
    "print(max(4,6))\n",
    "print(min(4,6))\n",
    "print(floor(3.7))\n",
    "print(ceil(3.7))\n",
    "print(sqrt(36))\n"
   ]
  },
  {
   "cell_type": "markdown",
   "metadata": {},
   "source": [
    "so the conclusion is that: we can use nos in the python.In python we can convert nos into the string,nd use different different math operation by above"
   ]
  },
  {
   "cell_type": "markdown",
   "metadata": {},
   "source": [
    "# Getting Input From Users"
   ]
  },
  {
   "cell_type": "code",
   "execution_count": 26,
   "metadata": {
    "collapsed": false
   },
   "outputs": [
    {
     "name": "stdout",
     "output_type": "stream",
     "text": [
      "Enter your name:kavi\n",
      "Enter your age:20\n",
      "where are you from:pith\n",
      "hellokavi! you are 20! you are from pith\n"
     ]
    }
   ],
   "source": [
    "name=input(\"Enter your name:\")\n",
    "age=input(\"Enter your age:\")\n",
    "loc=input(\"where are you from:\")\n",
    "print(\"hello\" +name+ \"! you are \" +age+ \"! you are from \"  +loc)"
   ]
  },
  {
   "cell_type": "markdown",
   "metadata": {},
   "source": [
    "so in above it just awesome..."
   ]
  },
  {
   "cell_type": "markdown",
   "metadata": {},
   "source": [
    "# Building a basic calculator"
   ]
  },
  {
   "cell_type": "code",
   "execution_count": 27,
   "metadata": {
    "collapsed": false
   },
   "outputs": [
    {
     "name": "stdout",
     "output_type": "stream",
     "text": [
      "Enter a first no1\n",
      "Enter a second no2\n",
      "3\n"
     ]
    }
   ],
   "source": [
    "num1=input(\"Enter a first no\")\n",
    "num2=input(\"Enter a second no\")\n",
    "result=int(num1)+int(num2)\n",
    "print(result)\n"
   ]
  },
  {
   "cell_type": "code",
   "execution_count": 28,
   "metadata": {
    "collapsed": false
   },
   "outputs": [
    {
     "name": "stdout",
     "output_type": "stream",
     "text": [
      "Enter a first no1\n",
      "Enter a second no2.3\n",
      "3.3\n"
     ]
    }
   ],
   "source": [
    "num1=input(\"Enter a first no\")\n",
    "num2=input(\"Enter a second no\")\n",
    "result=float(num1)+float(num2)\n",
    "print(result)"
   ]
  },
  {
   "cell_type": "markdown",
   "metadata": {},
   "source": [
    "so it just easy to get calculate with two nos!!"
   ]
  },
  {
   "cell_type": "markdown",
   "metadata": {},
   "source": [
    "# Mad Libs Game"
   ]
  },
  {
   "cell_type": "code",
   "execution_count": 29,
   "metadata": {
    "collapsed": false
   },
   "outputs": [
    {
     "name": "stdout",
     "output_type": "stream",
     "text": [
      "Enter a color:red\n",
      "Enter a Envirnment:sky\n",
      "Enter a celebrity:deepu\n",
      "roses are red\n",
      "sky is blue\n",
      "i love you deepu\n"
     ]
    }
   ],
   "source": [
    "color=input(\"Enter a color:\")\n",
    "Envirnment=input(\"Enter a Envirnment:\")\n",
    "celebrity=input(\"Enter a celebrity:\")\n",
    "print(\"roses are \" +color)\n",
    "print(Envirnment + \" is blue\")\n",
    "print(\"i love you \" +celebrity)"
   ]
  },
  {
   "cell_type": "markdown",
   "metadata": {},
   "source": [
    "you can fill up any block and any mad features..."
   ]
  },
  {
   "cell_type": "markdown",
   "metadata": {},
   "source": [
    "# List"
   ]
  },
  {
   "cell_type": "code",
   "execution_count": 30,
   "metadata": {
    "collapsed": false
   },
   "outputs": [
    {
     "name": "stdout",
     "output_type": "stream",
     "text": [
      "['sonu', 'amit', 'niraj', 'joshi']\n"
     ]
    }
   ],
   "source": [
    "friends=[\"sonu\",\"amit\",\"niraj\",\"joshi\"]\n",
    "print(friends)"
   ]
  },
  {
   "cell_type": "code",
   "execution_count": 31,
   "metadata": {
    "collapsed": false
   },
   "outputs": [
    {
     "name": "stdout",
     "output_type": "stream",
     "text": [
      "sonu\n",
      "niraj\n",
      "joshi\n",
      "amit\n",
      "sonu\n"
     ]
    }
   ],
   "source": [
    "friends=[\"sonu\",\"amit\",\"niraj\",\"joshi\"]\n",
    "print(friends[0])\n",
    "print(friends[2])\n",
    "print(friends[-1])\n",
    "print(friends[-3])\n",
    "print(friends[-4])\n",
    "\n"
   ]
  },
  {
   "cell_type": "code",
   "execution_count": 32,
   "metadata": {
    "collapsed": false
   },
   "outputs": [
    {
     "name": "stdout",
     "output_type": "stream",
     "text": [
      "['amit', 'niraj', 'joshi']\n"
     ]
    }
   ],
   "source": [
    "friends=[\"sonu\",\"amit\",\"niraj\",\"joshi\"]\n",
    "print(friends[1:])"
   ]
  },
  {
   "cell_type": "code",
   "execution_count": 33,
   "metadata": {
    "collapsed": false
   },
   "outputs": [
    {
     "name": "stdout",
     "output_type": "stream",
     "text": [
      "['sonu', 'kavi', 'niraj', 'joshi']\n"
     ]
    }
   ],
   "source": [
    "friends=[\"sonu\",\"amit\",\"niraj\",\"joshi\"]\n",
    "friends[1]=\"kavi\"\n",
    "print(friends)"
   ]
  },
  {
   "cell_type": "markdown",
   "metadata": {},
   "source": [
    "# List Function"
   ]
  },
  {
   "cell_type": "code",
   "execution_count": 34,
   "metadata": {
    "collapsed": false
   },
   "outputs": [
    {
     "name": "stdout",
     "output_type": "stream",
     "text": [
      "[4, 6, 2, 10, 1]\n"
     ]
    }
   ],
   "source": [
    "nos=[4,8,2,10,1]\n",
    "nos[1]=6\n",
    "print(nos)"
   ]
  },
  {
   "cell_type": "code",
   "execution_count": 35,
   "metadata": {
    "collapsed": false
   },
   "outputs": [
    {
     "name": "stdout",
     "output_type": "stream",
     "text": [
      "['sonu', 'amit', 'niraj', 'joshi', 4, 8, 2, 10, 1]\n"
     ]
    }
   ],
   "source": [
    "nos=[4,8,2,10,1]\n",
    "friends=[\"sonu\",\"amit\",\"niraj\",\"joshi\"]\n",
    "friends.extend(nos)\n",
    "print(friends)"
   ]
  },
  {
   "cell_type": "code",
   "execution_count": 36,
   "metadata": {
    "collapsed": false
   },
   "outputs": [
    {
     "name": "stdout",
     "output_type": "stream",
     "text": [
      "['sonu', 'amit', 'niraj', 'joshi', 'vikas']\n"
     ]
    }
   ],
   "source": [
    "nos=[4,8,2,10,1]\n",
    "friends=[\"sonu\",\"amit\",\"niraj\",\"joshi\"]\n",
    "friends.append(\"vikas\")\n",
    "print(friends)"
   ]
  },
  {
   "cell_type": "code",
   "execution_count": 37,
   "metadata": {
    "collapsed": false
   },
   "outputs": [
    {
     "name": "stdout",
     "output_type": "stream",
     "text": [
      "['sonu', 'ravi', 'amit', 'niraj', 'joshi']\n"
     ]
    }
   ],
   "source": [
    "nos=[4,8,2,10,1]\n",
    "friends=[\"sonu\",\"amit\",\"niraj\",\"joshi\"]\n",
    "friends.insert(1,\"ravi\")\n",
    "print(friends)"
   ]
  },
  {
   "cell_type": "code",
   "execution_count": 38,
   "metadata": {
    "collapsed": false
   },
   "outputs": [
    {
     "name": "stdout",
     "output_type": "stream",
     "text": [
      "['sonu', 'amit', 'niraj']\n"
     ]
    }
   ],
   "source": [
    "nos=[4,8,2,10,1]\n",
    "friends=[\"sonu\",\"amit\",\"niraj\",\"joshi\"]\n",
    "friends.remove(\"joshi\")\n",
    "print(friends)"
   ]
  },
  {
   "cell_type": "code",
   "execution_count": 39,
   "metadata": {
    "collapsed": false
   },
   "outputs": [
    {
     "name": "stdout",
     "output_type": "stream",
     "text": [
      "[]\n"
     ]
    }
   ],
   "source": [
    "nos=[4,8,2,10,1]\n",
    "friends=[\"sonu\",\"amit\",\"niraj\",\"joshi\"]\n",
    "friends.clear()\n",
    "print(friends)"
   ]
  },
  {
   "cell_type": "code",
   "execution_count": 40,
   "metadata": {
    "collapsed": false
   },
   "outputs": [
    {
     "name": "stdout",
     "output_type": "stream",
     "text": [
      "['sonu', 'amit', 'niraj']\n"
     ]
    }
   ],
   "source": [
    "nos=[4,8,2,10,1]\n",
    "friends=[\"sonu\",\"amit\",\"niraj\",\"joshi\"]\n",
    "friends.pop()\n",
    "print(friends)"
   ]
  },
  {
   "cell_type": "code",
   "execution_count": 41,
   "metadata": {
    "collapsed": false
   },
   "outputs": [
    {
     "name": "stdout",
     "output_type": "stream",
     "text": [
      "['amit', 'joshi', 'niraj', 'sonu']\n"
     ]
    }
   ],
   "source": [
    "nos=[4,8,2,10,1]\n",
    "friends=[\"sonu\",\"amit\",\"niraj\",\"joshi\"]\n",
    "friends.sort()\n",
    "print(friends)"
   ]
  },
  {
   "cell_type": "code",
   "execution_count": 42,
   "metadata": {
    "collapsed": false
   },
   "outputs": [
    {
     "name": "stdout",
     "output_type": "stream",
     "text": [
      "[1, 2, 4, 8, 10]\n"
     ]
    }
   ],
   "source": [
    "nos=[4,8,2,10,1]\n",
    "#friends=[\"sonu\",\"amit\",\"niraj\",\"joshi\"]\n",
    "nos.sort()\n",
    "print(nos)"
   ]
  },
  {
   "cell_type": "code",
   "execution_count": 43,
   "metadata": {
    "collapsed": false
   },
   "outputs": [
    {
     "name": "stdout",
     "output_type": "stream",
     "text": [
      "[1, 10, 2, 8, 4]\n"
     ]
    }
   ],
   "source": [
    "nos=[4,8,2,10,1]\n",
    "#friends=[\"sonu\",\"amit\",\"niraj\",\"joshi\"]\n",
    "nos.reverse()\n",
    "print(nos)"
   ]
  },
  {
   "cell_type": "code",
   "execution_count": 44,
   "metadata": {
    "collapsed": false
   },
   "outputs": [
    {
     "name": "stdout",
     "output_type": "stream",
     "text": [
      "['sonu', 'amit', 'niraj', 'joshi']\n"
     ]
    }
   ],
   "source": [
    "nos=[4,8,2,10,1]\n",
    "friends=[\"sonu\",\"amit\",\"niraj\",\"joshi\"]\n",
    "friends1=friends.copy()\n",
    "print(friends1)"
   ]
  },
  {
   "cell_type": "code",
   "execution_count": 45,
   "metadata": {
    "collapsed": false
   },
   "outputs": [
    {
     "name": "stdout",
     "output_type": "stream",
     "text": [
      "1\n"
     ]
    }
   ],
   "source": [
    "friends=[\"sonu\",\"amit\",\"niraj\",\"joshi\"]\n",
    "print(friends.index(\"amit\"))"
   ]
  },
  {
   "cell_type": "code",
   "execution_count": 46,
   "metadata": {
    "collapsed": false
   },
   "outputs": [
    {
     "name": "stdout",
     "output_type": "stream",
     "text": [
      "2\n"
     ]
    }
   ],
   "source": [
    "friends=[\"sonu\",\"amit\",\"amit\",\"niraj\",\"joshi\"]\n",
    "print(friends.count(\"amit\"))"
   ]
  },
  {
   "cell_type": "markdown",
   "metadata": {},
   "source": [
    "friends=[\"sonu\",\"amit\",\"niraj\",\"joshi\"]\n",
    "friends.remove(\"amit\")\n",
    "print(friends)"
   ]
  },
  {
   "cell_type": "markdown",
   "metadata": {},
   "source": [
    "so the conclusion is that list is essentiallly just a structure..we can  use add on ,remove,pop,sort,append,extendnd  or clear function on it..."
   ]
  },
  {
   "cell_type": "markdown",
   "metadata": {},
   "source": [
    "# Tuples"
   ]
  },
  {
   "cell_type": "code",
   "execution_count": 47,
   "metadata": {
    "collapsed": false
   },
   "outputs": [
    {
     "name": "stdout",
     "output_type": "stream",
     "text": [
      "(2, 4, 6)\n"
     ]
    }
   ],
   "source": [
    "nos=(2,4,6)\n",
    "print(nos)"
   ]
  },
  {
   "cell_type": "code",
   "execution_count": 48,
   "metadata": {
    "collapsed": false
   },
   "outputs": [
    {
     "name": "stdout",
     "output_type": "stream",
     "text": [
      "[(2, 4), (5, 6), (7, 8)]\n"
     ]
    }
   ],
   "source": [
    "nos=[(2,4),(5,6),(7,8)]\n",
    "print(nos)"
   ]
  },
  {
   "cell_type": "code",
   "execution_count": 49,
   "metadata": {
    "collapsed": false
   },
   "outputs": [
    {
     "name": "stdout",
     "output_type": "stream",
     "text": [
      "(2, 4, 6, 'kavi', False, 3.8)\n"
     ]
    }
   ],
   "source": [
    "nos=(2,4,6,\"kavi\",False,3.8)\n",
    "print(nos)"
   ]
  },
  {
   "cell_type": "markdown",
   "metadata": {},
   "source": [
    "so tuples are immutable we can not change or can not add or delete or update but we can only store data in the tuples...tuples can not access\n",
    "complex nos.only access string,nos,decimalnos..."
   ]
  },
  {
   "cell_type": "markdown",
   "metadata": {},
   "source": [
    "The main difference between list nd tuples..list are mutable.we can add,update,delete anything we can do with the tuples...but tuples is generally used for to store data or information."
   ]
  },
  {
   "cell_type": "markdown",
   "metadata": {},
   "source": [
    "#  Functions"
   ]
  },
  {
   "cell_type": "code",
   "execution_count": 50,
   "metadata": {
    "collapsed": false
   },
   "outputs": [
    {
     "name": "stdout",
     "output_type": "stream",
     "text": [
      "hello user\n"
     ]
    }
   ],
   "source": [
    "def say_hi():\n",
    "    print(\"hello user\")\n",
    "say_hi()"
   ]
  },
  {
   "cell_type": "code",
   "execution_count": 51,
   "metadata": {
    "collapsed": false
   },
   "outputs": [
    {
     "name": "stdout",
     "output_type": "stream",
     "text": [
      "Top\n",
      "hello user\n",
      "Bottom\n"
     ]
    }
   ],
   "source": [
    "def say_hi():\n",
    "    print(\"hello user\")\n",
    "print(\"Top\")\n",
    "say_hi()\n",
    "print(\"Bottom\")"
   ]
  },
  {
   "cell_type": "code",
   "execution_count": 52,
   "metadata": {
    "collapsed": false
   },
   "outputs": [
    {
     "name": "stdout",
     "output_type": "stream",
     "text": [
      "hellokavi\n",
      "hellosamant\n"
     ]
    }
   ],
   "source": [
    "def say_hi(name):\n",
    "    print(\"hello\" +name)\n",
    "say_hi(\"kavi\")\n",
    "say_hi(\"samant\")"
   ]
  },
  {
   "cell_type": "code",
   "execution_count": 53,
   "metadata": {
    "collapsed": false
   },
   "outputs": [
    {
     "name": "stdout",
     "output_type": "stream",
     "text": [
      " hello kavi, you are 20\n",
      " hello samant, you are 21\n"
     ]
    }
   ],
   "source": [
    "def say_hi(name,age):\n",
    "    print(\" hello \" +name+ \", you are \" +age )\n",
    "say_hi(\"kavi\",\"20\")\n",
    "say_hi(\"samant\",\"21\")"
   ]
  },
  {
   "cell_type": "code",
   "execution_count": 54,
   "metadata": {
    "collapsed": false
   },
   "outputs": [
    {
     "name": "stdout",
     "output_type": "stream",
     "text": [
      " hello kavi, you are 20\n",
      " hello samant, you are 21\n"
     ]
    }
   ],
   "source": [
    "def say_hi(name,age):\n",
    "    print(\" hello \" +name+ \", you are \" +str(age ))\n",
    "say_hi(\"kavi\",20)\n",
    "say_hi(\"samant\",21)"
   ]
  },
  {
   "cell_type": "markdown",
   "metadata": {},
   "source": [
    "so the conclusion is that: In python we are using function so we use (def) keyword nd than name.when u create a function by\n",
    "above like=def say_hi(): nd than print statement than the main step is that to call a function than python execute our program.in function we can access more than one parameters in our function..so it just awesome....."
   ]
  },
  {
   "cell_type": "markdown",
   "metadata": {},
   "source": [
    "# Return Statement"
   ]
  },
  {
   "cell_type": "code",
   "execution_count": 55,
   "metadata": {
    "collapsed": false
   },
   "outputs": [
    {
     "name": "stdout",
     "output_type": "stream",
     "text": [
      "27\n"
     ]
    }
   ],
   "source": [
    "def cube(num):\n",
    "   return num*num*num\n",
    "    \n",
    "print(cube(3))"
   ]
  },
  {
   "cell_type": "code",
   "execution_count": 56,
   "metadata": {
    "collapsed": false
   },
   "outputs": [
    {
     "name": "stdout",
     "output_type": "stream",
     "text": [
      "64\n"
     ]
    }
   ],
   "source": [
    "def cube(num):\n",
    "   return num*num*num\n",
    "    \n",
    "result=cube(4)\n",
    "print(result)"
   ]
  },
  {
   "cell_type": "code",
   "execution_count": 57,
   "metadata": {
    "collapsed": false
   },
   "outputs": [
    {
     "name": "stdout",
     "output_type": "stream",
     "text": [
      "64\n"
     ]
    }
   ],
   "source": [
    "def cube(num):\n",
    "   return num*num*num\n",
    "   print(\"code\")\n",
    "    \n",
    "result=cube(4)\n",
    "print(result)"
   ]
  },
  {
   "cell_type": "markdown",
   "metadata": {},
   "source": [
    "so we can say that return is a keyword.it is generally used for to return value back the caller..in above code we are using a \n",
    "statement: print(\"code\")...than if we are using return keyword so did not read the print statement ..only read the return value..means it break the code..."
   ]
  },
  {
   "cell_type": "markdown",
   "metadata": {},
   "source": [
    "# If Statement"
   ]
  },
  {
   "cell_type": "code",
   "execution_count": 58,
   "metadata": {
    "collapsed": false
   },
   "outputs": [
    {
     "name": "stdout",
     "output_type": "stream",
     "text": [
      "you are male\n"
     ]
    }
   ],
   "source": [
    "is_male=True\n",
    "if is_male:\n",
    "    print(\"you are male\")\n",
    "else:\n",
    "    print(\"you are not male\")"
   ]
  },
  {
   "cell_type": "code",
   "execution_count": 59,
   "metadata": {
    "collapsed": false
   },
   "outputs": [
    {
     "name": "stdout",
     "output_type": "stream",
     "text": [
      "you are not male\n"
     ]
    }
   ],
   "source": [
    "is_male=False\n",
    "if is_male:\n",
    "    print(\"you are male\")\n",
    "else:\n",
    "    print(\"you are not male\")"
   ]
  },
  {
   "cell_type": "code",
   "execution_count": 60,
   "metadata": {
    "collapsed": false
   },
   "outputs": [
    {
     "name": "stdout",
     "output_type": "stream",
     "text": [
      "you are neither male or not tall\n"
     ]
    }
   ],
   "source": [
    "is_male=False\n",
    "is_tall=False\n",
    "if is_male or is_tall:\n",
    "    print(\"you are male or tall \")\n",
    "else:\n",
    "    print(\"you are neither male or not tall\")"
   ]
  },
  {
   "cell_type": "code",
   "execution_count": 61,
   "metadata": {
    "collapsed": false
   },
   "outputs": [
    {
     "name": "stdout",
     "output_type": "stream",
     "text": [
      "you are male or tall both \n"
     ]
    }
   ],
   "source": [
    "is_male=True\n",
    "is_tall=True\n",
    "if is_male or is_tall:\n",
    "    print(\"you are male or tall both \")\n",
    "else:\n",
    "    print(\"you are neither male or not tall\")"
   ]
  },
  {
   "cell_type": "code",
   "execution_count": 62,
   "metadata": {
    "collapsed": false
   },
   "outputs": [
    {
     "name": "stdout",
     "output_type": "stream",
     "text": [
      "you are  tall  male \n"
     ]
    }
   ],
   "source": [
    "is_male=True\n",
    "is_tall=True\n",
    "if is_male and is_tall:\n",
    "    print(\"you are  tall  male \")\n",
    "else:\n",
    "    print(\"you are either not  male or not tall\")"
   ]
  },
  {
   "cell_type": "code",
   "execution_count": 63,
   "metadata": {
    "collapsed": false
   },
   "outputs": [
    {
     "name": "stdout",
     "output_type": "stream",
     "text": [
      "you are either not  male or not tall\n"
     ]
    }
   ],
   "source": [
    "is_male=True\n",
    "is_tall=False\n",
    "if is_male and is_tall:\n",
    "    print(\"you are  tall  male \")\n",
    "else:\n",
    "    print(\"you are either not  male or not tall\")"
   ]
  },
  {
   "cell_type": "code",
   "execution_count": 64,
   "metadata": {
    "collapsed": false
   },
   "outputs": [
    {
     "name": "stdout",
     "output_type": "stream",
     "text": [
      "you are male or tall both \n"
     ]
    }
   ],
   "source": [
    "is_male=True\n",
    "is_tall=False\n",
    "if is_male or is_tall:\n",
    "    print(\"you are male or tall both \")\n",
    "else:\n",
    "    print(\"you are neither male or not tall\")"
   ]
  },
  {
   "cell_type": "code",
   "execution_count": 65,
   "metadata": {
    "collapsed": false
   },
   "outputs": [
    {
     "name": "stdout",
     "output_type": "stream",
     "text": [
      "you are male or tall both \n"
     ]
    }
   ],
   "source": [
    "is_male=True\n",
    "is_tall=True\n",
    "if is_male and is_tall:\n",
    "    print(\"you are male or tall both \")\n",
    "elif is_male and not(is_tall):\n",
    "    print(\"you are short male\")\n",
    "elif not(is_male) and (is_tall):\n",
    "    print(\"you are not  male tall\")\n",
    "else:\n",
    "    print(\"you are neither male or not tall\")"
   ]
  },
  {
   "cell_type": "code",
   "execution_count": 66,
   "metadata": {
    "collapsed": false
   },
   "outputs": [
    {
     "name": "stdout",
     "output_type": "stream",
     "text": [
      "you are short male\n"
     ]
    }
   ],
   "source": [
    "is_male=True\n",
    "is_tall=False\n",
    "if is_male and is_tall:\n",
    "    print(\"you are male or tall both \")\n",
    "elif is_male and not(is_tall):\n",
    "    print(\"you are short male\")\n",
    "elif not(is_male) and (is_tall):\n",
    "    print(\"you are not  male tall\")\n",
    "else:\n",
    "    print(\"you are neither male or not tall\")"
   ]
  },
  {
   "cell_type": "code",
   "execution_count": 67,
   "metadata": {
    "collapsed": false
   },
   "outputs": [
    {
     "name": "stdout",
     "output_type": "stream",
     "text": [
      "you are neither male or not tall\n"
     ]
    }
   ],
   "source": [
    "is_male=False\n",
    "is_tall=False\n",
    "if is_male and is_tall:\n",
    "    print(\"you are male or tall both \")\n",
    "elif is_male and not(is_tall):\n",
    "    print(\"you are short male\")\n",
    "elif not(is_male) and (is_tall):\n",
    "    print(\"you are not  male tall\")\n",
    "else:\n",
    "    print(\"you are neither male or not tall\")"
   ]
  },
  {
   "cell_type": "markdown",
   "metadata": {},
   "source": [
    "so the conclusion is that : we are using boolean variable .nd if ,else or elif statements nd we are using or(operator)nd and(operator)..so when both boolean value are false than print the else statement..or is generally used for if one statement is true than if statement is executed.but in and operator suppose one of boolean variable is false so it give else or elif statements .so it just a cool..."
   ]
  },
  {
   "cell_type": "markdown",
   "metadata": {},
   "source": [
    "#  If Statement & Comparision"
   ]
  },
  {
   "cell_type": "markdown",
   "metadata": {
    "collapsed": false
   },
   "source": [
    "def max_no(num1,num2,num3):\n",
    "    if num1>=num2 and num1>=num3:\n",
    "        return num1\n",
    "    elif num2>=num1 and num2>=num3:\n",
    "        return num2\n",
    "    else:\n",
    "        return num3;\n",
    "print(max_no(4,5,6))\n",
    "    \n",
    "    "
   ]
  },
  {
   "cell_type": "code",
   "execution_count": 68,
   "metadata": {
    "collapsed": false
   },
   "outputs": [
    {
     "name": "stdout",
     "output_type": "stream",
     "text": [
      "4\n"
     ]
    }
   ],
   "source": [
    "def max_no(num1,num2,num3):\n",
    "    if num1<=num2 and num1<=num3:\n",
    "        return num1\n",
    "    elif num2>=num1 and num2>=num3:\n",
    "        return num2\n",
    "    else:\n",
    "        return num3\n",
    "print(max_no(4,5,6))\n",
    "    "
   ]
  },
  {
   "cell_type": "markdown",
   "metadata": {},
   "source": [
    "so the conclusion is that in python we are using different-different comparision operator like..==(equal),>=,<=,!= nd we compare \n",
    "strings, boolean ,nos.... so it is just cool"
   ]
  },
  {
   "cell_type": "markdown",
   "metadata": {},
   "source": [
    "#  Building a better calculator"
   ]
  },
  {
   "cell_type": "code",
   "execution_count": 69,
   "metadata": {
    "collapsed": false
   },
   "outputs": [
    {
     "name": "stdout",
     "output_type": "stream",
     "text": [
      "Enter first no5\n",
      "enter an operator+\n",
      "Enter second no5\n",
      "10.0\n"
     ]
    }
   ],
   "source": [
    "num1=float(input(\"Enter first no\"))\n",
    "op=input(\"enter an operator\")\n",
    "num2=float(input(\"Enter second no\"))\n",
    "if op==\"+\":\n",
    "    print(num1+num2)\n",
    "elif op==\"-\":\n",
    "    print(num1-num2)\n",
    "    \n",
    "elif op==\"*\":\n",
    "    print(num1*num2)\n",
    "elif op==\"/\":\n",
    "    print(num1/num2)\n",
    "else:\n",
    "    print(\"invalid operator\")"
   ]
  },
  {
   "cell_type": "code",
   "execution_count": 70,
   "metadata": {
    "collapsed": false
   },
   "outputs": [
    {
     "name": "stdout",
     "output_type": "stream",
     "text": [
      "Enter first no7\n",
      "enter an operator()\n",
      "Enter second no6\n",
      "invalid operator\n"
     ]
    }
   ],
   "source": [
    "num1=float(input(\"Enter first no\"))\n",
    "op=input(\"enter an operator\")\n",
    "num2=float(input(\"Enter second no\"))\n",
    "if op==\"+\":\n",
    "    print(num1+num2)\n",
    "elif op==\"-\":\n",
    "    print(num1-num2)\n",
    "    \n",
    "elif op==\"*\":\n",
    "    print(num1*num2)\n",
    "elif op==\"/\":\n",
    "    print(num1/num2)\n",
    "else:\n",
    "    print(\"invalid operator\")"
   ]
  },
  {
   "cell_type": "markdown",
   "metadata": {},
   "source": [
    "so what we can say that if we are using if,elif,or else statement it is easy to understand our calculator .we can easy to add \n",
    "sub or multiply by using this statements so python is easy to build or create calculator by short code nd effected.."
   ]
  },
  {
   "cell_type": "markdown",
   "metadata": {},
   "source": [
    "#  Dictionaries"
   ]
  },
  {
   "cell_type": "code",
   "execution_count": 71,
   "metadata": {
    "collapsed": false
   },
   "outputs": [
    {
     "name": "stdout",
     "output_type": "stream",
     "text": [
      "december\n"
     ]
    }
   ],
   "source": [
    "monthconversions={\n",
    "    \"jan\":\"january\",\n",
    "    \"feb\":\"febuary\",\n",
    "    \"mar\":\"march\",\n",
    "    \"apr\":\"april\",\n",
    "    \"nov\":\"november\",\n",
    "    \"dec\":\"december\",\n",
    "    \n",
    "    \n",
    "    \n",
    "}\n",
    "\n",
    "\n",
    "print(monthconversions[\"dec\"])"
   ]
  },
  {
   "cell_type": "code",
   "execution_count": 72,
   "metadata": {
    "collapsed": false
   },
   "outputs": [
    {
     "name": "stdout",
     "output_type": "stream",
     "text": [
      "december\n"
     ]
    }
   ],
   "source": [
    "monthconversions={\n",
    "    \"jan\":\"january\",\n",
    "    \"feb\":\"febuary\",\n",
    "    \"mar\":\"march\",\n",
    "    \"apr\":\"april\",\n",
    "    \"nov\":\"november\",\n",
    "    \"dec\":\"december\",\n",
    "    \n",
    "    \n",
    "    \n",
    "}\n",
    "\n",
    "\n",
    "print(monthconversions.get(\"dec\"))"
   ]
  },
  {
   "cell_type": "code",
   "execution_count": 73,
   "metadata": {
    "collapsed": false
   },
   "outputs": [
    {
     "name": "stdout",
     "output_type": "stream",
     "text": [
      "not a valid keys\n"
     ]
    }
   ],
   "source": [
    "monthconversions={\n",
    "    \"jan\":\"january\",\n",
    "    \"feb\":\"febuary\",\n",
    "    \"mar\":\"march\",\n",
    "    \"apr\":\"april\",\n",
    "    \"nov\":\"november\",\n",
    "    \"dec\":\"december\",\n",
    "    \n",
    "    \n",
    "    \n",
    "}\n",
    "\n",
    "\n",
    "print(monthconversions.get(\"lov\",\"not a valid keys\"))"
   ]
  },
  {
   "cell_type": "markdown",
   "metadata": {},
   "source": [
    "so In python we are using dictionaries :dictionary is key value pair..nd start with adictionary by ({}) nd we have keys nd \n",
    "its corresponding valuse ...so if u enter key than automatically give value..so its awesome"
   ]
  },
  {
   "cell_type": "markdown",
   "metadata": {},
   "source": [
    "#  While loop"
   ]
  },
  {
   "cell_type": "code",
   "execution_count": 74,
   "metadata": {
    "collapsed": false
   },
   "outputs": [
    {
     "name": "stdout",
     "output_type": "stream",
     "text": [
      "1\n",
      "2\n",
      "3\n",
      "4\n",
      "5\n",
      "6\n",
      "7\n",
      "8\n",
      "9\n",
      "10\n",
      "everything good\n"
     ]
    }
   ],
   "source": [
    "i=1\n",
    "while i<=10:\n",
    "    print(i)\n",
    "    i+=1\n",
    "print(\"everything good\")"
   ]
  },
  {
   "cell_type": "markdown",
   "metadata": {},
   "source": [
    "so we can say that if u are using while loop..while loop is a structure in python which allow us to loop through & execute a block of code multiple times..we have a condition when condition is true while loop is on the way .if condition is false than break the code.."
   ]
  },
  {
   "cell_type": "markdown",
   "metadata": {},
   "source": [
    "# Building a guessing game"
   ]
  },
  {
   "cell_type": "code",
   "execution_count": 1,
   "metadata": {
    "collapsed": false
   },
   "outputs": [
    {
     "name": "stdout",
     "output_type": "stream",
     "text": [
      " Enter guess  kavi\n",
      " Enter guess  ravi\n",
      " Enter guess  savi\n",
      " Enter guess  deepu\n",
      " you win \n"
     ]
    }
   ],
   "source": [
    "secret_word=(\"deepu\")\n",
    "guess=\"\"\n",
    "while guess !=secret_word:\n",
    "    guess=input(\" Enter guess  \")\n",
    "    \n",
    "    \n",
    "print( \" you win \")"
   ]
  },
  {
   "cell_type": "markdown",
   "metadata": {
    "collapsed": false
   },
   "source": [
    "#  For Loop"
   ]
  },
  {
   "cell_type": "code",
   "execution_count": 1,
   "metadata": {
    "collapsed": false
   },
   "outputs": [
    {
     "name": "stdout",
     "output_type": "stream",
     "text": [
      "k\n",
      "a\n",
      "v\n",
      "i\n",
      "n\n",
      "d\n",
      "r\n",
      "a\n",
      " \n",
      "s\n",
      "a\n",
      "m\n",
      "a\n",
      "n\n",
      "t\n"
     ]
    }
   ],
   "source": [
    "for letter in \"kavindra samant\":\n",
    "    print(letter)"
   ]
  },
  {
   "cell_type": "code",
   "execution_count": 14,
   "metadata": {
    "collapsed": false
   },
   "outputs": [
    {
     "name": "stdout",
     "output_type": "stream",
     "text": [
      "['kavi', 'sonu', 'amit', 'joshi']\n",
      "['kavi', 'sonu', 'amit', 'joshi']\n",
      "['kavi', 'sonu', 'amit', 'joshi']\n",
      "['kavi', 'sonu', 'amit', 'joshi']\n"
     ]
    }
   ],
   "source": [
    "friends=[\"kavi\",\"sonu\",\"amit\",\"joshi\"]\n",
    "for friend in friends:\n",
    "    print(friends)"
   ]
  },
  {
   "cell_type": "code",
   "execution_count": 3,
   "metadata": {
    "collapsed": false
   },
   "outputs": [
    {
     "name": "stdout",
     "output_type": "stream",
     "text": [
      "0\n",
      "1\n",
      "2\n",
      "3\n",
      "4\n",
      "5\n",
      "6\n",
      "7\n",
      "8\n",
      "9\n"
     ]
    }
   ],
   "source": [
    "friends=[\"kavi\",\"sonu\",\"amit\",\"joshi\"]\n",
    "for index in range(10):\n",
    "    print(index)"
   ]
  },
  {
   "cell_type": "code",
   "execution_count": 4,
   "metadata": {
    "collapsed": false
   },
   "outputs": [
    {
     "name": "stdout",
     "output_type": "stream",
     "text": [
      "3\n",
      "4\n",
      "5\n",
      "6\n",
      "7\n",
      "8\n",
      "9\n"
     ]
    }
   ],
   "source": [
    "friends=[\"kavi\",\"sonu\",\"amit\",\"joshi\"]\n",
    "for index in range( 3,10):\n",
    "    print(index)"
   ]
  },
  {
   "cell_type": "code",
   "execution_count": 7,
   "metadata": {
    "collapsed": false
   },
   "outputs": [
    {
     "name": "stdout",
     "output_type": "stream",
     "text": [
      "kavi\n",
      "sonu\n",
      "amit\n",
      "joshi\n"
     ]
    }
   ],
   "source": [
    "friends=[\"kavi\",\"sonu\",\"amit\",\"joshi\"]\n",
    "for index in range(len(friends)):\n",
    "    print(friends[index])"
   ]
  },
  {
   "cell_type": "code",
   "execution_count": 13,
   "metadata": {
    "collapsed": false
   },
   "outputs": [
    {
     "name": "stdout",
     "output_type": "stream",
     "text": [
      "first iteration\n",
      "not first\n",
      "not first\n",
      "not first\n",
      "not first\n"
     ]
    }
   ],
   "source": [
    "friends=[\"kavi\",\"sonu\",\"amit\",\"joshi\"]\n",
    "for index in range(5):\n",
    "    if index == 0:\n",
    "        print(\"first iteration\")\n",
    "    else:\n",
    "        print(\"not first\")\n",
    "    "
   ]
  },
  {
   "cell_type": "markdown",
   "metadata": {},
   "source": [
    "so the conclusion is that for loop is that \" the variable can change each iteration of a loop\"..Normally we are using string ,nos,series of no but we are using for loop in for loop there are a variable like for variable name ..it give iteration.."
   ]
  },
  {
   "cell_type": "markdown",
   "metadata": {},
   "source": [
    "# Exponent function"
   ]
  },
  {
   "cell_type": "code",
   "execution_count": 16,
   "metadata": {
    "collapsed": false
   },
   "outputs": [
    {
     "name": "stdout",
     "output_type": "stream",
     "text": [
      "9\n"
     ]
    }
   ],
   "source": [
    "def raise_to_power(base_num,pow_no):\n",
    "    result=1\n",
    "    for index in range(pow_no):\n",
    "        result=result*base_num\n",
    "    return result\n",
    "\n",
    "print(raise_to_power(3,2))"
   ]
  },
  {
   "cell_type": "markdown",
   "metadata": {},
   "source": [
    "# 2D lists & Nested Loops"
   ]
  },
  {
   "cell_type": "code",
   "execution_count": 20,
   "metadata": {
    "collapsed": false
   },
   "outputs": [
    {
     "name": "stdout",
     "output_type": "stream",
     "text": [
      "4\n"
     ]
    }
   ],
   "source": [
    "no_grid=[\n",
    "    [1,2,3,4],\n",
    "    [5,6,7,8],\n",
    "    [9,0,1,4],\n",
    "    [0]\n",
    "       \n",
    "]\n",
    "\n",
    "\n",
    "print(no_grid[0][3])"
   ]
  },
  {
   "cell_type": "code",
   "execution_count": 21,
   "metadata": {
    "collapsed": false
   },
   "outputs": [
    {
     "name": "stdout",
     "output_type": "stream",
     "text": [
      "1\n"
     ]
    }
   ],
   "source": [
    "no_grid=[\n",
    "    [1,2,3,4],\n",
    "    [5,6,7,8],\n",
    "    [9,0,1,4],\n",
    "    [0]\n",
    "       \n",
    "]\n",
    "\n",
    "\n",
    "print(no_grid[2][2])"
   ]
  },
  {
   "cell_type": "code",
   "execution_count": 23,
   "metadata": {
    "collapsed": false
   },
   "outputs": [
    {
     "name": "stdout",
     "output_type": "stream",
     "text": [
      "1\n",
      "2\n",
      "3\n",
      "4\n",
      "5\n",
      "6\n",
      "7\n",
      "8\n",
      "9\n",
      "0\n",
      "1\n",
      "4\n",
      "0\n"
     ]
    }
   ],
   "source": [
    "no_grid=[\n",
    "    [1,2,3,4],\n",
    "    [5,6,7,8],\n",
    "    [9,0,1,4],\n",
    "    [0]\n",
    "       \n",
    "]\n",
    "for row in no_grid:\n",
    "    for col in row:\n",
    "        print(col)\n",
    "    "
   ]
  },
  {
   "cell_type": "markdown",
   "metadata": {},
   "source": [
    "so what we could do this we are using a set of array in a list there are row nd columns..nd we are using nested loop means:we have a for loop inside of a for loop...called nested loop..."
   ]
  },
  {
   "cell_type": "markdown",
   "metadata": {},
   "source": [
    "# Build A Translator"
   ]
  },
  {
   "cell_type": "code",
   "execution_count": 1,
   "metadata": {
    "collapsed": false
   },
   "outputs": [
    {
     "name": "stdout",
     "output_type": "stream",
     "text": [
      " Enter a phrase: kavi\n",
      "kgvg\n"
     ]
    }
   ],
   "source": [
    "def translate(phrase):\n",
    "    translation= \"\"\n",
    "    for letter in phrase:\n",
    "        if letter in \"AEIOUaeiou\":\n",
    "            translation=translation + \"g\"   \n",
    "        else:\n",
    "             translation = translation + letter      \n",
    "    return translation\n",
    "print(translate(input(\" Enter a phrase: \")))\n",
    "            \n",
    "        "
   ]
  },
  {
   "cell_type": "code",
   "execution_count": 3,
   "metadata": {
    "collapsed": false
   },
   "outputs": [
    {
     "name": "stdout",
     "output_type": "stream",
     "text": [
      " Enter a phrase: Always Happy\n",
      "Glwgys Hgppy\n"
     ]
    }
   ],
   "source": [
    "def translate(phrase):\n",
    "    translation= \"\"\n",
    "    for letter in phrase:\n",
    "        if letter.lower() in \"aeiou\":\n",
    "            if letter.isupper():\n",
    "                translation=translation + \"G\"\n",
    "            else: \n",
    "                translation=translation + \"g\"   \n",
    "        else:\n",
    "             translation = translation + letter      \n",
    "    return translation\n",
    "print(translate(input(\" Enter a phrase: \")))\n",
    "            \n",
    "        "
   ]
  },
  {
   "cell_type": "markdown",
   "metadata": {
    "collapsed": true
   },
   "source": [
    "so what we do we are using if or for statements than we are calling a function that can translate a word for us .it is just a translator...if in a word there are vowel than it convert on \"g,\"G\".it is cool..."
   ]
  },
  {
   "cell_type": "markdown",
   "metadata": {},
   "source": [
    "#  Comments"
   ]
  },
  {
   "cell_type": "markdown",
   "metadata": {},
   "source": [
    "this is generally used in inside of a python ..this comments is generally used by human to write up something so python we are \n",
    "using # to comment some code or some text on it.."
   ]
  },
  {
   "cell_type": "code",
   "execution_count": 6,
   "metadata": {
    "collapsed": false
   },
   "outputs": [
    {
     "name": "stdout",
     "output_type": "stream",
     "text": [
      "Hello\n"
     ]
    }
   ],
   "source": [
    "# Hii python\n",
    "print(\"Hello\")"
   ]
  },
  {
   "cell_type": "markdown",
   "metadata": {
    "collapsed": true
   },
   "source": [
    "#  Try Excert"
   ]
  },
  {
   "cell_type": "code",
   "execution_count": 1,
   "metadata": {
    "collapsed": false
   },
   "outputs": [
    {
     "name": "stdout",
     "output_type": "stream",
     "text": [
      "Enter a no:6\n",
      "6\n"
     ]
    }
   ],
   "source": [
    "no=int(input(\"Enter a no:\"))\n",
    "print(no)"
   ]
  },
  {
   "cell_type": "code",
   "execution_count": 3,
   "metadata": {
    "collapsed": false
   },
   "outputs": [
    {
     "name": "stdout",
     "output_type": "stream",
     "text": [
      "Enter a no:yiui\n",
      "invalid no\n"
     ]
    }
   ],
   "source": [
    "try:\n",
    "    no=int(input(\"Enter a no:\"))\n",
    "    print(no)\n",
    "except:\n",
    "    print(\"invalid no\")"
   ]
  },
  {
   "cell_type": "code",
   "execution_count": 6,
   "metadata": {
    "collapsed": false
   },
   "outputs": [
    {
     "name": "stdout",
     "output_type": "stream",
     "text": [
      "Divided by zero\n"
     ]
    }
   ],
   "source": [
    "\n",
    "try:\n",
    "    value=10/0\n",
    "    no=int(input(\"Enter a no:\"))\n",
    "    print(no)\n",
    "except ZeroDivisionError:\n",
    "    print(\"Divided by zero\")\n",
    "except ValueError:\n",
    "    print(\"invalid input\")"
   ]
  },
  {
   "cell_type": "code",
   "execution_count": 7,
   "metadata": {
    "collapsed": false
   },
   "outputs": [
    {
     "name": "stdout",
     "output_type": "stream",
     "text": [
      "Enter a no:gj\n",
      "invalid input\n"
     ]
    }
   ],
   "source": [
    "\n",
    "try:\n",
    "    no=int(input(\"Enter a no:\"))\n",
    "    print(no)\n",
    "except ZeroDivisionError:\n",
    "    print(\"Divided by zero\")\n",
    "except ValueError:\n",
    "    print(\"invalid input\")"
   ]
  },
  {
   "cell_type": "code",
   "execution_count": 8,
   "metadata": {
    "collapsed": false
   },
   "outputs": [
    {
     "name": "stdout",
     "output_type": "stream",
     "text": [
      "division by zero\n"
     ]
    }
   ],
   "source": [
    "\n",
    "try:\n",
    "    kavi=10/0\n",
    "    no=int(input(\"Enter a no:\"))\n",
    "    print(no)\n",
    "except ZeroDivisionError as err:\n",
    "    print(err)\n",
    "except ValueError:\n",
    "    print(\"invalid input\")"
   ]
  },
  {
   "cell_type": "markdown",
   "metadata": {},
   "source": [
    "the concept of try except is that it handle the error..in python the try except block will basically allow your program to try out a piece of code..the except handle the error if error occurs then break our program..try block handle the division by zero error ..try block just protect our program..it is awesome to using try block..."
   ]
  },
  {
   "cell_type": "markdown",
   "metadata": {},
   "source": [
    "#  Reading Files"
   ]
  },
  {
   "cell_type": "code",
   "execution_count": 10,
   "metadata": {
    "collapsed": false
   },
   "outputs": [
    {
     "name": "stdout",
     "output_type": "stream",
     "text": [
      "True\n"
     ]
    }
   ],
   "source": [
    "kavi_file=open(\"kavi.txt\",\"r\")\n",
    "print(kavi_file.readable())\n",
    "kavi_file.close()"
   ]
  },
  {
   "cell_type": "code",
   "execution_count": 11,
   "metadata": {
    "collapsed": false
   },
   "outputs": [
    {
     "name": "stdout",
     "output_type": "stream",
     "text": [
      "my name is kavindra samant\n",
      "i am from pithoragarh\n",
      "i am a student of B.tech\n"
     ]
    }
   ],
   "source": [
    "kavi_file=open(\"kavi.txt\",\"r\")\n",
    "print(kavi_file.read())\n",
    "kavi_file.close()"
   ]
  },
  {
   "cell_type": "code",
   "execution_count": 13,
   "metadata": {
    "collapsed": false
   },
   "outputs": [
    {
     "name": "stdout",
     "output_type": "stream",
     "text": [
      "my name is kavindra samant\n",
      "\n",
      "i am from pithoragarh\n",
      "\n"
     ]
    }
   ],
   "source": [
    "kavi_file=open(\"kavi.txt\",\"r\")\n",
    "print(kavi_file.readline())\n",
    "print(kavi_file.readline())\n",
    "kavi_file.close()"
   ]
  },
  {
   "cell_type": "code",
   "execution_count": 14,
   "metadata": {
    "collapsed": false
   },
   "outputs": [
    {
     "name": "stdout",
     "output_type": "stream",
     "text": [
      "['my name is kavindra samant\\n', 'i am from pithoragarh\\n', 'i am a student of B.tech']\n"
     ]
    }
   ],
   "source": [
    "kavi_file=open(\"kavi.txt\",\"r\")\n",
    "print(kavi_file.readlines())\n",
    "kavi_file.close()"
   ]
  },
  {
   "cell_type": "code",
   "execution_count": 15,
   "metadata": {
    "collapsed": false
   },
   "outputs": [
    {
     "name": "stdout",
     "output_type": "stream",
     "text": [
      "i am from pithoragarh\n",
      "\n"
     ]
    }
   ],
   "source": [
    "kavi_file=open(\"kavi.txt\",\"r\")\n",
    "print(kavi_file.readlines()[1])\n",
    "kavi_file.close()"
   ]
  },
  {
   "cell_type": "code",
   "execution_count": 16,
   "metadata": {
    "collapsed": false
   },
   "outputs": [
    {
     "name": "stdout",
     "output_type": "stream",
     "text": [
      "my name is kavindra samant\n",
      "\n",
      "i am from pithoragarh\n",
      "\n",
      "i am a student of B.tech\n"
     ]
    }
   ],
   "source": [
    "kavi_file=open(\"kavi.txt\",\"r\")\n",
    "for kavi in kavi_file.readlines():\n",
    "    print(kavi)\n",
    "kavi_file.close()"
   ]
  },
  {
   "cell_type": "markdown",
   "metadata": {},
   "source": [
    "so what we will do that: we read a file get information from the file we are using open function nd read,readable,readline,readlines etc..."
   ]
  },
  {
   "cell_type": "markdown",
   "metadata": {},
   "source": [
    "# Writing to files"
   ]
  },
  {
   "cell_type": "code",
   "execution_count": 22,
   "metadata": {
    "collapsed": false
   },
   "outputs": [],
   "source": [
    "kavi_file=open(\"kavi.txt\",\"a\")\n",
    "kavi_file.write(\"\\n i am very handsome\")\n",
    "kavi_file.close()"
   ]
  },
  {
   "cell_type": "code",
   "execution_count": 23,
   "metadata": {
    "collapsed": true
   },
   "outputs": [],
   "source": [
    "kavi_file=open(\"kavi.txt\",\"w\")\n",
    "kavi_file.write(\"\\n i am very handsome\")\n",
    "kavi_file.close()"
   ]
  },
  {
   "cell_type": "code",
   "execution_count": 24,
   "metadata": {
    "collapsed": true
   },
   "outputs": [],
   "source": [
    "kavi_file=open(\"kavi1.txt\",\"w\")\n",
    "kavi_file.write(\"\\n i am very handsome \\n i am a good person\")\n",
    "kavi_file.close()"
   ]
  },
  {
   "cell_type": "code",
   "execution_count": 25,
   "metadata": {
    "collapsed": true
   },
   "outputs": [],
   "source": [
    "kavi_file=open(\"index.html\",\"w\")\n",
    "kavi_file.write(\"<p> Hello python</p>\")\n",
    "kavi_file.close()"
   ]
  },
  {
   "cell_type": "markdown",
   "metadata": {},
   "source": [
    "so the conclusion is that :we can write a file by(w) it will overwrite a file,we can create a new file,we can append the existing file etc so python can do this so its great.."
   ]
  },
  {
   "cell_type": "markdown",
   "metadata": {},
   "source": [
    "# Modules & Pip"
   ]
  },
  {
   "cell_type": "code",
   "execution_count": null,
   "metadata": {
    "collapsed": true
   },
   "outputs": [],
   "source": []
  }
 ],
 "metadata": {
  "anaconda-cloud": {},
  "kernelspec": {
   "display_name": "Python [conda root]",
   "language": "python",
   "name": "conda-root-py"
  },
  "language_info": {
   "codemirror_mode": {
    "name": "ipython",
    "version": 3
   },
   "file_extension": ".py",
   "mimetype": "text/x-python",
   "name": "python",
   "nbconvert_exporter": "python",
   "pygments_lexer": "ipython3",
   "version": "3.5.2"
  }
 },
 "nbformat": 4,
 "nbformat_minor": 1
}
